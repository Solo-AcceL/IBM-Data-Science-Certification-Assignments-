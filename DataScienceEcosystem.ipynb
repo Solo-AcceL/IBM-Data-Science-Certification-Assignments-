{
 "cells": [
  {
   "cell_type": "markdown",
   "id": "4130035b",
   "metadata": {},
   "source": [
    "# Data Science Tools and Ecosystem"
   ]
  },
  {
   "cell_type": "markdown",
   "id": "62762d3d",
   "metadata": {},
   "source": [
    "In this notebook, Data Science Tools and Ecosystem are summarized."
   ]
  },
  {
   "cell_type": "markdown",
   "id": "6acb5773",
   "metadata": {},
   "source": [
    "Some of the popular languages that Data Scientists use are:\n",
    "1. Python\n",
    "2. R\n",
    "3. SQL\n",
    "4. Scala\n",
    "5. Julia\n",
    "6. Java"
   ]
  },
  {
   "cell_type": "markdown",
   "id": "6f9e0c63",
   "metadata": {},
   "source": [
    "Some of the commonly used libraries used by Data Scientists include:\n",
    "\n",
    "1. Pandas\n",
    "2. Numpy\n",
    "3. Scikit learn\n",
    "4. Matplotlib"
   ]
  },
  {
   "cell_type": "markdown",
   "id": "50b32e55",
   "metadata": {},
   "source": [
    "|Data Science Tools|\n",
    "------------------------\n",
    "|Jupyter Notebooks|\n",
    "|Jupyter Lab|\n",
    "|RStudio|\n"
   ]
  },
  {
   "cell_type": "markdown",
   "id": "de86123a",
   "metadata": {},
   "source": [
    "### Below are a few examples of evaluating arithmetic expressions in Python"
   ]
  },
  {
   "cell_type": "code",
   "execution_count": 2,
   "id": "bc44dff2",
   "metadata": {},
   "outputs": [
    {
     "name": "stdout",
     "output_type": "stream",
     "text": [
      "17\n"
     ]
    }
   ],
   "source": [
    "#This a simple arithmetic expression to mutiply then add integers\n",
    "\n",
    "result = (3 * 4) + 5\n",
    "print(result)"
   ]
  },
  {
   "cell_type": "code",
   "execution_count": 3,
   "id": "15877283",
   "metadata": {},
   "outputs": [
    {
     "name": "stdout",
     "output_type": "stream",
     "text": [
      "3.3333333333333335\n"
     ]
    }
   ],
   "source": [
    "#This will convert 200 minutes to hours by diving by 60\n",
    "\n",
    "minToConvert = 200\n",
    "result = minToConvert/60\n",
    "print(result)"
   ]
  },
  {
   "cell_type": "markdown",
   "id": "907241b4",
   "metadata": {},
   "source": [
    "**Objectives:**\n",
    "* Popular data science languages\n",
    "* Commonly used data science libraries\n",
    "* A table containing a list of data science tools\n",
    "* Evaluating arithmetic expressions in code cells"
   ]
  },
  {
   "cell_type": "markdown",
   "id": "4b468a76",
   "metadata": {},
   "source": [
    "## Author\n",
    "Vedant Yadav"
   ]
  },
  {
   "cell_type": "code",
   "execution_count": null,
   "id": "31f7ada4",
   "metadata": {},
   "outputs": [],
   "source": []
  }
 ],
 "metadata": {
  "kernelspec": {
   "display_name": "Python 3 (ipykernel)",
   "language": "python",
   "name": "python3"
  },
  "language_info": {
   "codemirror_mode": {
    "name": "ipython",
    "version": 3
   },
   "file_extension": ".py",
   "mimetype": "text/x-python",
   "name": "python",
   "nbconvert_exporter": "python",
   "pygments_lexer": "ipython3",
   "version": "3.11.5"
  }
 },
 "nbformat": 4,
 "nbformat_minor": 5
}
